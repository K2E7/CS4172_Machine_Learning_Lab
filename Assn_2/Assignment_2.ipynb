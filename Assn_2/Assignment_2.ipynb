{
 "cells": [
  {
   "cell_type": "markdown",
   "metadata": {},
   "source": [
    "___Import Required Libraries___"
   ]
  },
  {
   "cell_type": "code",
   "execution_count": 1,
   "metadata": {},
   "outputs": [],
   "source": [
    "import pandas as pd\n",
    "from sklearn.model_selection import train_test_split\n",
    "from sklearn.linear_model import LogisticRegression\n",
    "from sklearn.metrics import accuracy_score\n",
    "from sklearn.datasets import load_breast_cancer\n",
    "import matplotlib.pyplot as plt"
   ]
  },
  {
   "cell_type": "markdown",
   "metadata": {},
   "source": [
    "___Load and Split the Dataset___    \n",
    "Load the breast cancer dataset and split it into training, validation, and testing sets:Load the dataset and split it into training, validation, and testing sets (80:10:10 split) using seed 5 for reproducibility:"
   ]
  },
  {
   "cell_type": "code",
   "execution_count": 2,
   "metadata": {},
   "outputs": [],
   "source": [
    "data = load_breast_cancer()\n",
    "X = pd.DataFrame(data.data, columns=data.feature_names)\n",
    "y = pd.Series(data.target, name='target')\n",
    "\n",
    "# Split the dataset\n",
    "X_train, X_temp, y_train, y_temp = train_test_split(X, y, test_size=0.2, random_state=5)\n",
    "X_valid, X_test, y_valid, y_test = train_test_split(X_temp, y_temp, test_size=0.5, random_state=5)"
   ]
  },
  {
   "cell_type": "markdown",
   "metadata": {},
   "source": [
    "___Implement Logistic Regression___   \n",
    "Implement Logistic Regression using different solvers ('newton-cg', 'lbfgs', 'liblinear') and evaluate accuracy:"
   ]
  },
  {
   "cell_type": "code",
   "execution_count": 3,
   "metadata": {},
   "outputs": [
    {
     "name": "stdout",
     "output_type": "stream",
     "text": [
      "Solver: newton-cg, Accuracy: 0.9649122807017544\n",
      "Solver: lbfgs, Accuracy: 0.9649122807017544\n",
      "Solver: liblinear, Accuracy: 0.9649122807017544\n"
     ]
    },
    {
     "name": "stderr",
     "output_type": "stream",
     "text": [
      "/home/knight/.local/lib/python3.10/site-packages/sklearn/linear_model/_logistic.py:460: ConvergenceWarning: lbfgs failed to converge (status=1):\n",
      "STOP: TOTAL NO. of ITERATIONS REACHED LIMIT.\n",
      "\n",
      "Increase the number of iterations (max_iter) or scale the data as shown in:\n",
      "    https://scikit-learn.org/stable/modules/preprocessing.html\n",
      "Please also refer to the documentation for alternative solver options:\n",
      "    https://scikit-learn.org/stable/modules/linear_model.html#logistic-regression\n",
      "  n_iter_i = _check_optimize_result(\n"
     ]
    }
   ],
   "source": [
    "solvers = ['newton-cg', 'lbfgs', 'liblinear']\n",
    "for solver in solvers:\n",
    "    model = LogisticRegression(solver=solver)\n",
    "    model.fit(X_train, y_train)\n",
    "    predictions = model.predict(X_valid)\n",
    "    accuracy = accuracy_score(y_valid, predictions)\n",
    "    print(f'Solver: {solver}, Accuracy: {accuracy}')"
   ]
  },
  {
   "cell_type": "markdown",
   "metadata": {},
   "source": [
    "___Train Logistic Regression with Different Penalties___   \n",
    "Train Logistic Regression using different penalties ('l1', 'l2', 'none') and display coefficients and accuracy:"
   ]
  },
  {
   "cell_type": "code",
   "execution_count": 4,
   "metadata": {},
   "outputs": [
    {
     "name": "stdout",
     "output_type": "stream",
     "text": [
      "----------------------------------------\n",
      "Penalty: l1\n",
      "\n",
      "Coefficients: \n",
      "[[ 3.15026273  0.08882245 -0.16446846 -0.01058279  0.          0.\n",
      "   0.          0.          0.          0.          0.          1.97429953\n",
      "   0.         -0.09702453  0.          0.          0.          0.\n",
      "   0.          0.          0.55749914 -0.38696178 -0.04569665 -0.01972672\n",
      "   0.          0.         -4.3704048   0.          0.          0.        ]]\n",
      "\n",
      "Accuracy: 0.9825\n",
      "----------------------------------------\n",
      "Penalty: l2\n",
      "\n",
      "Coefficients: \n",
      "[[ 1.89758500e+00  1.02466522e-01 -1.22282160e-01  1.81037301e-03\n",
      "  -1.15795041e-01 -3.36345080e-01 -5.50455360e-01 -2.84036578e-01\n",
      "  -1.56756060e-01 -1.46005945e-02  5.38919304e-02  1.48307240e+00\n",
      "   1.64548712e-01 -9.85279428e-02 -1.39717079e-02 -4.07326532e-03\n",
      "  -6.55970442e-02 -3.43255449e-02 -2.45649822e-02  3.81939507e-03\n",
      "   1.73110402e+00 -3.61820685e-01 -1.15483305e-01 -2.82036454e-02\n",
      "  -2.15185374e-01 -8.92214242e-01 -1.36498177e+00 -5.25828114e-01\n",
      "  -4.82613406e-01 -8.75521247e-02]]\n",
      "\n",
      "Accuracy: 0.9649\n",
      "----------------------------------------\n",
      "Penalty: none\n",
      "\n",
      "Coefficients: \n",
      "[[ 1.06675598  0.47010252  0.20076121 -0.01259324 -0.0386084  -0.18406842\n",
      "  -0.26319767 -0.11399709 -0.05056992 -0.00923617  0.05656074  0.57438018\n",
      "   0.18282551 -0.11015199 -0.00373237 -0.03851535 -0.0572151  -0.01469449\n",
      "  -0.01086948 -0.00335886  1.23272642 -0.53433029 -0.21697199 -0.01796187\n",
      "  -0.06785395 -0.55224936 -0.71498817 -0.21105406 -0.16309209 -0.05313311]]\n",
      "\n",
      "Accuracy: 0.9649\n"
     ]
    },
    {
     "name": "stderr",
     "output_type": "stream",
     "text": [
      "/home/knight/.local/lib/python3.10/site-packages/sklearn/svm/_base.py:1242: ConvergenceWarning: Liblinear failed to converge, increase the number of iterations.\n",
      "  warnings.warn(\n",
      "/home/knight/.local/lib/python3.10/site-packages/sklearn/linear_model/_logistic.py:1182: FutureWarning: `penalty='none'`has been deprecated in 1.2 and will be removed in 1.4. To keep the past behaviour, set `penalty=None`.\n",
      "  warnings.warn(\n",
      "/home/knight/.local/lib/python3.10/site-packages/sklearn/linear_model/_logistic.py:460: ConvergenceWarning: lbfgs failed to converge (status=1):\n",
      "STOP: TOTAL NO. of ITERATIONS REACHED LIMIT.\n",
      "\n",
      "Increase the number of iterations (max_iter) or scale the data as shown in:\n",
      "    https://scikit-learn.org/stable/modules/preprocessing.html\n",
      "Please also refer to the documentation for alternative solver options:\n",
      "    https://scikit-learn.org/stable/modules/linear_model.html#logistic-regression\n",
      "  n_iter_i = _check_optimize_result(\n"
     ]
    }
   ],
   "source": [
    "penalties = ['l1', 'l2', 'none']\n",
    "\n",
    "# Using 'liblinear' solver for 'l1' and 'l2' penalties\n",
    "for penalty in penalties[:2]:\n",
    "    model = LogisticRegression(penalty=penalty, solver='liblinear')\n",
    "    model.fit(X_train, y_train)\n",
    "    coefficients = model.coef_\n",
    "    predictions = model.predict(X_valid)\n",
    "    accuracy = accuracy_score(y_valid, predictions)\n",
    "    print(f\"{'-'*40}\\nPenalty: {penalty}\\n\\nCoefficients: \\n{coefficients}\\n\\nAccuracy: {accuracy:.4f}\")\n",
    "\n",
    "# Using 'lbfgs' solver for 'none' penalty\n",
    "model = LogisticRegression(penalty='none', solver='lbfgs')\n",
    "model.fit(X_train, y_train)\n",
    "coefficients = model.coef_\n",
    "predictions = model.predict(X_valid)\n",
    "accuracy = accuracy_score(y_valid, predictions)\n",
    "print(f\"{'-'*40}\\nPenalty: none\\n\\nCoefficients: \\n{coefficients}\\n\\nAccuracy: {accuracy:.4f}\")"
   ]
  },
  {
   "cell_type": "markdown",
   "metadata": {},
   "source": [
    "___Vary L1 Penalty and Compare Coefficients___   \n",
    "Vary the L1 penalty over the specified range and compare feature coefficients:"
   ]
  },
  {
   "cell_type": "code",
   "execution_count": 5,
   "metadata": {},
   "outputs": [
    {
     "name": "stdout",
     "output_type": "stream",
     "text": [
      "----------------------------------------\n",
      "L1 Penalty: 0.1\n",
      "\n",
      "Coefficients:\n",
      " [[ 1.06752939e+00  1.18252811e-01  5.84502137e-02 -1.54157720e-02\n",
      "   0.00000000e+00  0.00000000e+00 -4.68115612e+00  0.00000000e+00\n",
      "   0.00000000e+00  0.00000000e+00  0.00000000e+00  3.80782898e+00\n",
      "  -5.42066171e-01 -1.23812308e-01  0.00000000e+00  0.00000000e+00\n",
      "   0.00000000e+00  0.00000000e+00  0.00000000e+00  0.00000000e+00\n",
      "   1.81257613e-01 -5.89233476e-01  1.61545355e-01 -2.05131196e-02\n",
      "  -1.17146746e+01  6.29620994e-01 -5.75466236e+00 -3.16546307e+01\n",
      "  -7.23170976e+00  0.00000000e+00]]\n",
      "----------------------------------------\n",
      "L1 Penalty: 0.25\n",
      "\n",
      "Coefficients:\n",
      " [[  3.80330083   0.15006066  -0.2288708   -0.02175828   0.\n",
      "    0.           0.           0.           0.           0.\n",
      "    0.           3.5140403   -0.25876831  -0.12174664   0.\n",
      "    0.           0.           0.           0.           0.\n",
      "    0.          -0.55107687   0.11759896  -0.01768373   0.\n",
      "    0.          -6.69683495 -13.68249452  -3.97074447   0.        ]]\n",
      "----------------------------------------\n",
      "L1 Penalty: 0.75\n",
      "\n",
      "Coefficients:\n",
      " [[ 3.01741241  0.11827972 -0.15454224 -0.01161506  0.          0.\n",
      "   0.          0.          0.          0.          0.          2.43191788\n",
      "   0.         -0.10866883  0.          0.          0.          0.\n",
      "   0.          0.          0.51782458 -0.43731821 -0.0155972  -0.0196526\n",
      "   0.          0.         -5.73202774  0.          0.          0.        ]]\n",
      "----------------------------------------\n",
      "L1 Penalty: 0.9\n",
      "\n",
      "Coefficients:\n",
      " [[ 2.79773112  0.09965073 -0.1255305  -0.0102191   0.          0.\n",
      "   0.          0.          0.          0.          0.          2.15031871\n",
      "   0.         -0.10204761  0.          0.          0.          0.\n",
      "   0.          0.          0.63997518 -0.4050344  -0.03854206 -0.02032655\n",
      "   0.          0.         -5.06279048  0.          0.          0.        ]]\n"
     ]
    },
    {
     "name": "stderr",
     "output_type": "stream",
     "text": [
      "/home/knight/.local/lib/python3.10/site-packages/sklearn/svm/_base.py:1242: ConvergenceWarning: Liblinear failed to converge, increase the number of iterations.\n",
      "  warnings.warn(\n",
      "/home/knight/.local/lib/python3.10/site-packages/sklearn/svm/_base.py:1242: ConvergenceWarning: Liblinear failed to converge, increase the number of iterations.\n",
      "  warnings.warn(\n"
     ]
    }
   ],
   "source": [
    "l1_penalties = [0.1, 0.25, 0.75, 0.9]\n",
    "for penalty in l1_penalties:\n",
    "    model = LogisticRegression(penalty='l1', C=1/penalty, solver='liblinear')\n",
    "    model.fit(X_train, y_train)\n",
    "    coefficients = model.coef_\n",
    "    print(f\"{'-'*40}\\nL1 Penalty: {penalty}\\n\\nCoefficients:\\n {coefficients}\")"
   ]
  },
  {
   "cell_type": "markdown",
   "metadata": {},
   "source": [
    "___Estimate Average Naive Bayes Accuracy___    \n",
    "Estimate the average accuracy of the Naive Bayes algorithm using 5-fold cross-validation and plot a bar graph:"
   ]
  },
  {
   "cell_type": "code",
   "execution_count": 6,
   "metadata": {},
   "outputs": [
    {
     "name": "stdout",
     "output_type": "stream",
     "text": [
      "Average Naive Bayes Accuracy: 0.9385188635305075\n"
     ]
    },
    {
     "data": {
      "image/png": "[encoded data removed]",
      "text/plain": [
       "<Figure size 640x480 with 1 Axes>"
      ]
     },
     "metadata": {},
     "output_type": "display_data"
    }
   ],
   "source": [
    "from sklearn.model_selection import cross_val_score\n",
    "from sklearn.naive_bayes import GaussianNB\n",
    "\n",
    "nb_model = GaussianNB()\n",
    "scores = cross_val_score(nb_model, X, y, cv=5)\n",
    "\n",
    "average_accuracy = scores.mean()\n",
    "print(f'Average Naive Bayes Accuracy: {average_accuracy}')\n",
    "\n",
    "# Plot the bar graph\n",
    "plt.bar(range(1, 6), scores)\n",
    "plt.xlabel('Fold')\n",
    "plt.ylabel('Accuracy')\n",
    "plt.title('Naive Bayes 5-Fold Cross-Validation Accuracy')\n",
    "plt.show()\n"
   ]
  }
 ],
 "metadata": {
  "kernelspec": {
   "display_name": "Python 3",
   "language": "python",
   "name": "python3"
  },
  "language_info": {
   "codemirror_mode": {
    "name": "ipython",
    "version": 3
   },
   "file_extension": ".py",
   "mimetype": "text/x-python",
   "name": "python",
   "nbconvert_exporter": "python",
   "pygments_lexer": "ipython3",
   "version": "3.10.12"
  },
  "orig_nbformat": 4
 },
 "nbformat": 4,
 "nbformat_minor": 2
}
