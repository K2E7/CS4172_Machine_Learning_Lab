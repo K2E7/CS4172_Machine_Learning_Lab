{
 "cells": [
  {
   "cell_type": "code",
   "execution_count": 4,
   "metadata": {},
   "outputs": [
    {
     "name": "stdout",
     "output_type": "stream",
     "text": [
      "Downloading data from https://storage.googleapis.com/tensorflow/tf-keras-datasets/mnist.npz\n",
      "11490434/11490434 [==============================] - 2s 0us/step\n"
     ]
    }
   ],
   "source": [
    "import tensorflow as tf;\n",
    "from keras.datasets import mnist\n",
    "(x_train, y_train), (x_test, y_test) = mnist.load_data()\n"
   ]
  },
  {
   "cell_type": "code",
   "execution_count": 5,
   "metadata": {},
   "outputs": [],
   "source": [
    "import numpy as np\n",
    "from PIL import Image\n",
    "\n",
    "def RBF(x, c, s):\n",
    "    return np.exp(-np.sum((x-c)**2, axis=1)/(2*s**2))\n",
    "\n",
    "def resize_image(image, target_size=(32, 32)):\n",
    "    image = Image.fromarray(image)\n",
    "    image = image.resize(target_size)\n",
    "    return np.array(image)"
   ]
  },
  {
   "cell_type": "code",
   "execution_count": 7,
   "metadata": {},
   "outputs": [],
   "source": [
    "# Resize all training and test images\n",
    "x_train_resized = [resize_image(img) for img in x_train]\n",
    "x_test_resized = [resize_image(img) for img in x_test]\n",
    "\n",
    "# Convert the lists to NumPy arrays\n",
    "x_train_resized = np.array(x_train_resized)\n",
    "x_test_resized = np.array(x_test_resized)"
   ]
  },
  {
   "cell_type": "code",
   "execution_count": 9,
   "metadata": {},
   "outputs": [],
   "source": [
    "# Split the dataset into training, \n",
    "# validation, and test sets\n",
    "train_size = 0.8\n",
    "val_size = 0.1\n",
    "test_size = 0.1"
   ]
  },
  {
   "cell_type": "code",
   "execution_count": 10,
   "metadata": {},
   "outputs": [],
   "source": [
    "from sklearn.model_selection import train_test_split\n",
    "\n",
    "x_train, x_temp, \\\n",
    "    y_train, y_temp = train_test_split \\\n",
    "        (x_train_resized, y_train, \n",
    "         test_size=(1 - train_size))\n",
    "\n",
    "\n",
    "x_val, x_test, \\\n",
    "    y_val, y_test = train_test_split \\\n",
    "        (x_temp, y_temp, \n",
    "         test_size=test_size / (test_size + val_size))"
   ]
  }
 ],
 "metadata": {
  "kernelspec": {
   "display_name": "Python 3",
   "language": "python",
   "name": "python3"
  },
  "language_info": {
   "codemirror_mode": {
    "name": "ipython",
    "version": 3
   },
   "file_extension": ".py",
   "mimetype": "text/x-python",
   "name": "python",
   "nbconvert_exporter": "python",
   "pygments_lexer": "ipython3",
   "version": "3.11.4"
  },
  "orig_nbformat": 4
 },
 "nbformat": 4,
 "nbformat_minor": 2
}
